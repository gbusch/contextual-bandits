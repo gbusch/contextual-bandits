{
 "cells": [
  {
   "cell_type": "markdown",
   "metadata": {},
   "source": [
    "# Contextual Bandits\n",
    "\n",
    "The contextual bandit is a generalization of the multi-armed bandit. The agent still has to decide between $k$ arms at each iteration. However, they also have a $d$-dimensional feature vector (the \"context\") which is assumed to be related to the reward of the action.\n",
    "\n",
    "The aim of the agent is to gain information about how the context and the reward are related to each other, so that over time it can choose the arm given a context that maximizes reward."
   ]
  },
  {
   "cell_type": "code",
   "execution_count": 1,
   "metadata": {},
   "outputs": [],
   "source": [
    "import requests\n",
    "import numpy as np\n",
    "import matplotlib.pyplot as plt\n",
    "from IPython.display import clear_output\n",
    "\n",
    "from number_bandit import NumberBandit"
   ]
  },
  {
   "cell_type": "markdown",
   "metadata": {},
   "source": [
    "## Captcha Solver\n",
    "\n",
    "In this simple example we train an agent to solve captchas (see folder captcha/). The captchas are taken from MNIST and to speed up training, we only take into account the numbers 0, 1, and 2."
   ]
  },
  {
   "cell_type": "code",
   "execution_count": 2,
   "metadata": {},
   "outputs": [],
   "source": [
    "NUM_NUM = 3"
   ]
  },
  {
   "cell_type": "markdown",
   "metadata": {},
   "source": [
    "### Instantiation of the NumberBandit\n",
    "\n",
    "We instantiate one Bandit per possible outcome / action (here 3 in order to speed up calculations).\n",
    "\n",
    "During initialization, it creates a very simple Keras (fully connected) neural network.\n",
    "\n",
    "In addition, it has the following to methods:\n",
    "* train_net: take set of images and their respective reward and train the neural network\n",
    "* make_prediction: takes one image and returns a prediction.\n",
    "\n",
    "What do we actually fit / predict?\n",
    "Let's say we consider the bandit for the number 2. This means when we hand the fit algorithm some image plus the reward that we got for the prediction \"2\". In case this image really showed a \"2\", the reward would be \"1\", otherwise \"0\". This means the prediction is between 0 and 1 and is the prediction for a given image to resemble a \"2\"."
   ]
  },
  {
   "cell_type": "code",
   "execution_count": 3,
   "metadata": {},
   "outputs": [
    {
     "name": "stderr",
     "output_type": "stream",
     "text": [
      "2022-02-06 17:59:49.127495: I tensorflow/core/platform/cpu_feature_guard.cc:151] This TensorFlow binary is optimized with oneAPI Deep Neural Network Library (oneDNN) to use the following CPU instructions in performance-critical operations:  AVX2 FMA\n",
      "To enable them in other operations, rebuild TensorFlow with the appropriate compiler flags.\n"
     ]
    }
   ],
   "source": [
    "bandits = {i: NumberBandit() for i in range(NUM_NUM)};"
   ]
  },
  {
   "cell_type": "markdown",
   "metadata": {},
   "source": [
    "### A simple $\\epsilon$-greedy algorithm\n",
    "\n",
    "In every iteration, the agent has to choose between the possible actions. Here, we use a simple $\\epsilon$-greedy algorithm.\n",
    "\n",
    "This means in every iteration, we choose randomly (\"exploration\") with a probability of $\\epsilon$. Otherwise, we choose greedily (\"exploitation\"), i.e. we choose the action for which we expect the highest reward."
   ]
  },
  {
   "cell_type": "code",
   "execution_count": 4,
   "metadata": {},
   "outputs": [],
   "source": [
    "def greedy_choice(bandits, img):\n",
    "    probabilities = {i: bandit.make_prediction(np.atleast_2d(img))[0][0] for i, bandit in bandits.items()}\n",
    "    return max(probabilities, key=probabilities.get)\n",
    "\n",
    "def epsilon_greedy(epsilon, data):\n",
    "    if np.random.random() > epsilon:\n",
    "        action = greedy_choice(bandits, data)\n",
    "    else:\n",
    "        action = np.random.randint(0, NUM_NUM)\n",
    "    return action"
   ]
  },
  {
   "cell_type": "markdown",
   "metadata": {},
   "source": [
    "### Start learning...\n",
    "\n",
    "We will now start learning...\n",
    "\n",
    "In every step, we retrieve a captcha and choose an action following the $\\epsilon$-greedy algorithm. We will store the images, our choices and the corresponding reward and update our model every 50 iterations."
   ]
  },
  {
   "cell_type": "code",
   "execution_count": 5,
   "metadata": {},
   "outputs": [],
   "source": [
    "def make_n_steps(n, epsilon=0.1):\n",
    "    for n in range(n):\n",
    "        captcha = requests.get(\"http://localhost:5000/captcha\").json()\n",
    "        data = np.array(captcha[\"data\"])\n",
    "        action = epsilon_greedy(epsilon, data)\n",
    "        reward = requests.post(f\"http://localhost:5000/captcha/{captcha['id']}/response/{action}\").json()[\"reward\"]\n",
    "        train_batch[action][\"imgs\"].append(data)\n",
    "        train_batch[action][\"rewards\"].append(reward)\n",
    "        regrets.append(1 - reward)\n",
    "\n",
    "        if (n % 50 == 0) & (n!=0):\n",
    "            for i in range(NUM_NUM):\n",
    "                if len(train_batch[i][\"imgs\"]) == 0: continue\n",
    "                bandits[i].train_net(np.array(train_batch[i][\"imgs\"]), np.array(train_batch[i][\"rewards\"]))\n",
    "        if (n % 100 == 0) & (n!=0):\n",
    "            clear_output(wait=True)\n",
    "            plt.plot(np.cumsum(regrets))\n",
    "            plt.show()"
   ]
  },
  {
   "cell_type": "code",
   "execution_count": 6,
   "metadata": {},
   "outputs": [],
   "source": [
    "train_batch = {}\n",
    "for i in range(NUM_NUM):\n",
    "    train_batch[i] = {\"imgs\": [], \"rewards\": []}\n",
    "\n",
    "regrets = []"
   ]
  },
  {
   "cell_type": "code",
   "execution_count": 7,
   "metadata": {},
   "outputs": [
    {
     "data": {
      "image/png": "[encoded data removed]",
      "text/plain": [
       "<Figure size 432x288 with 1 Axes>"
      ]
     },
     "metadata": {
      "needs_background": "light"
     },
     "output_type": "display_data"
    }
   ],
   "source": [
    "%matplotlib inline\n",
    "\n",
    "make_n_steps(1000)"
   ]
  },
  {
   "cell_type": "markdown",
   "metadata": {},
   "source": [
    "### Regret analysis\n",
    "\n",
    "Let's analyze the regret function:\n",
    "* In the beginning, we don't have any prior knowledge but use the default initialization of our model (which does not necessarily mean that we sample randomly: it would be more efficient to do exploration only at the beginning). This means, we have a 1/3 chance to guess the right number or a regret of $2/3 \\times iteration$.\n",
    "* Assuming that we have the perfect model, since we have a simple $\\epsilon$-greedy approach, we would still do exploration with probability $\\epsilon$, in which case we will be wrong with probability 2/3. This means our regret will increase with $\\epsilon \\times 2/3 \\times iteration$."
   ]
  },
  {
   "cell_type": "code",
   "execution_count": 8,
   "metadata": {},
   "outputs": [
    {
     "data": {
      "text/plain": [
       "[<matplotlib.lines.Line2D at 0x7f9257eebd90>]"
      ]
     },
     "execution_count": 8,
     "metadata": {},
     "output_type": "execute_result"
    },
    {
     "data": {
      "image/png": "[encoded data removed]",
      "text/plain": [
       "<Figure size 432x288 with 1 Axes>"
      ]
     },
     "metadata": {
      "needs_background": "light"
     },
     "output_type": "display_data"
    }
   ],
   "source": [
    "plt.plot(np.cumsum(regrets))\n",
    "plt.plot([0, 200], [0, 200 * 2/3])\n",
    "plt.plot([400+0, 400+600], [90+0, 90+600 * 2/30])"
   ]
  },
  {
   "cell_type": "code",
   "execution_count": null,
   "metadata": {},
   "outputs": [],
   "source": []
  }
 ],
 "metadata": {
  "interpreter": {
   "hash": "7015c14aeec4fd72b07331e93ee32a61cca4531dd1c3395a78d75412bcdd1c34"
  },
  "kernelspec": {
   "display_name": "Python 3.10.0 64-bit ('py310': conda)",
   "name": "python3"
  },
  "language_info": {
   "codemirror_mode": {
    "name": "ipython",
    "version": 3
   },
   "file_extension": ".py",
   "mimetype": "text/x-python",
   "name": "python",
   "nbconvert_exporter": "python",
   "pygments_lexer": "ipython3",
   "version": "3.10.0"
  },
  "orig_nbformat": 4
 },
 "nbformat": 4,
 "nbformat_minor": 2
}
